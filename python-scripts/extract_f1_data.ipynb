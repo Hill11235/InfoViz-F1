{
 "cells": [
  {
   "cell_type": "code",
   "execution_count": 13,
   "id": "e2a8d2b6",
   "metadata": {},
   "outputs": [],
   "source": [
    "import fastf1 as ff1\n",
    "import numpy as np\n",
    "import matplotlib as mpl\n",
    "\n",
    "from matplotlib import pyplot as plt\n",
    "from matplotlib.collections import LineCollection\n",
    "\n",
    "\n",
    "ff1.Cache.enable_cache('./datasets')  # replace with your cache directory"
   ]
  },
  {
   "cell_type": "code",
   "execution_count": 21,
   "id": "6545a120",
   "metadata": {},
   "outputs": [],
   "source": [
    "year = 2021\n",
    "wknd = 20\n",
    "ses = 'R'\n",
    "driver = 'LEC'\n",
    "colormap = mpl.cm.plasma"
   ]
  },
  {
   "cell_type": "code",
   "execution_count": 22,
   "id": "a7fbdb2b",
   "metadata": {},
   "outputs": [
    {
     "name": "stderr",
     "output_type": "stream",
     "text": [
      "core           INFO \tLoading data for Qatar Grand Prix - Race [v2.2.1]\n",
      "api            INFO \tNo cached data found for driver_info. Loading data...\n",
      "api            INFO \tFetching driver list...\n",
      "api            INFO \tData has been written to cache!\n",
      "api            INFO \tNo cached data found for timing_data. Loading data...\n",
      "api            INFO \tFetching timing data...\n",
      "api            INFO \tParsing timing data...\n",
      "api            INFO \tData has been written to cache!\n",
      "api            INFO \tNo cached data found for timing_app_data. Loading data...\n",
      "api            INFO \tFetching timing app data...\n",
      "api            INFO \tData has been written to cache!\n",
      "core           INFO \tProcessing timing data...\n",
      "api            INFO \tNo cached data found for session_status_data. Loading data...\n",
      "api            INFO \tFetching session status data...\n",
      "api            INFO \tData has been written to cache!\n",
      "api            INFO \tNo cached data found for track_status_data. Loading data...\n",
      "api            INFO \tFetching track status data...\n",
      "api            INFO \tData has been written to cache!\n",
      "api            INFO \tNo cached data found for car_data. Loading data...\n",
      "api            INFO \tFetching car data...\n",
      "api            INFO \tParsing car data...\n",
      "api            INFO \tData has been written to cache!\n",
      "api            INFO \tNo cached data found for position_data. Loading data...\n",
      "api            INFO \tFetching position data...\n",
      "api            INFO \tParsing position data...\n",
      "api            INFO \tData has been written to cache!\n",
      "api            INFO \tNo cached data found for weather_data. Loading data...\n",
      "api            INFO \tFetching weather data...\n",
      "api            INFO \tData has been written to cache!\n",
      "core           INFO \tFinished loading data for 20 drivers: ['44', '33', '14', '11', '31', '18', '55', '16', '4', '5', '10', '3', '22', '7', '99', '47', '63', '9', '6', '77']\n"
     ]
    }
   ],
   "source": [
    "session = ff1.get_session(year, wknd, ses)\n",
    "weekend = session.event\n",
    "session.load()\n",
    "lap = session.laps.pick_driver(driver)\n",
    "\n",
    "# Get telemetry data\n",
    "x = lap.telemetry['X']              # values for x-axis\n",
    "y = lap.telemetry['Y']              # values for y-axis\n",
    "color = lap.telemetry['Speed']      # value to base color gradient on"
   ]
  },
  {
   "cell_type": "code",
   "execution_count": 26,
   "id": "a5bb1279",
   "metadata": {},
   "outputs": [],
   "source": [
    "lap.to_csv(\"LEC_Qatar_Lap_Data.csv\", sep=',')"
   ]
  },
  {
   "cell_type": "code",
   "execution_count": 27,
   "id": "5a4e9464",
   "metadata": {},
   "outputs": [],
   "source": [
    "for i in range (1, 57):\n",
    "    lapNumber = lap.loc[lap['LapNumber'] == i]\n",
    "    telemetry = lapNumber.telemetry\n",
    "    fileName = \"LEC_Qatar_Lap_Number\" + str(i) + \"_Telemetry_Data.csv\"\n",
    "    telemetry.to_csv(fileName, sep=',')"
   ]
  }
 ],
 "metadata": {
  "kernelspec": {
   "display_name": "Python 3 (ipykernel)",
   "language": "python",
   "name": "python3"
  },
  "language_info": {
   "codemirror_mode": {
    "name": "ipython",
    "version": 3
   },
   "file_extension": ".py",
   "mimetype": "text/x-python",
   "name": "python",
   "nbconvert_exporter": "python",
   "pygments_lexer": "ipython3",
   "version": "3.9.8"
  }
 },
 "nbformat": 4,
 "nbformat_minor": 5
}
